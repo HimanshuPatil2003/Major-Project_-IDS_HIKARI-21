{
 "cells": [
  {
   "cell_type": "markdown",
   "id": "c90e30a5-3e24-4ace-b03c-5a235f9e36e4",
   "metadata": {},
   "source": [
    "# PREPROCESSING OF DATASET STANDARDIZATION, ONE-HOT ENCODING AND RESAMPLING"
   ]
  },
  {
   "cell_type": "code",
   "execution_count": null,
   "id": "7f320268-9ce4-497c-a849-d53950e07d43",
   "metadata": {},
   "outputs": [],
   "source": [
    "import pandas as pd\n",
    "import numpy as np\n",
    "import seaborn as sns\n",
    "import matplotlib.pyplot as plt\n",
    "from sklearn.compose import ColumnTransformer\n",
    "from sklearn.pipeline import Pipeline\n",
    "from sklearn.preprocessing import StandardScaler, OneHotEncoder, PowerTransformer, MinMaxScaler\n",
    "from imblearn.over_sampling import ADASYN"
   ]
  },
  {
   "cell_type": "code",
   "execution_count": 57,
   "id": "a7e32dbb-01d0-424e-aeb3-6fc8d4f5cc7f",
   "metadata": {},
   "outputs": [],
   "source": [
    "test_data = pd.read_csv(\"./dataset/test_dataset.csv\")\n",
    "train_data = pd.read_csv(\"./dataset/train_dataset.csv\")"
   ]
  },
  {
   "cell_type": "code",
   "execution_count": 58,
   "id": "07e0f685-4543-4ffe-afea-76a917f1f36a",
   "metadata": {},
   "outputs": [],
   "source": [
    "drop_columns = ['Unnamed: 0.1', 'Unnamed: 0', 'uid', 'originh', 'responh', 'traffic_category', 'Label']\n",
    "y_train = train_data[\"Label\"]\n",
    "X_train = train_data.drop(columns=drop_columns)\n",
    "y_test = test_data[\"Label\"]\n",
    "X_test = test_data.drop(columns=drop_columns)"
   ]
  },
  {
   "cell_type": "code",
   "execution_count": null,
   "id": "2fbb003d-c83f-4284-8111-0dd40cf7dd97",
   "metadata": {},
   "outputs": [],
   "source": [
    "port_columns = ['originp', 'responp']\n",
    "numerical_cols = X_train.select_dtypes(include=['number']).columns.difference(port_columns)\n",
    "categorical_cols = X_train.select_dtypes(include=['object']).columns\n",
    "numeric_transformer = Pipeline(steps=[\n",
    "    ('yeo_johnson', PowerTransformer(method='yeo-johnson')),\n",
    "    ('scaler', StandardScaler())\n",
    "])\n",
    "categorical_transformer = Pipeline(steps=[\n",
    "    ('onehot', OneHotEncoder(drop='first', handle_unknown='ignore'))\n",
    "])\n",
    "port_transformer = Pipeline(steps=[\n",
    "    ('Rescale', MinMaxScaler())\n",
    "])\n",
    "# Column transformer including all transformations\n",
    "preprocessor = ColumnTransformer(transformers=[\n",
    "    ('num', numeric_transformer, numerical_cols),\n",
    "    ('cat', categorical_transformer, categorical_cols),\n",
    "    ('port', port_transformer, port_columns)  # Treat port numbers separately\n",
    "])\n",
    "pipeline = Pipeline(steps=[\n",
    "    ('preprocessor', preprocessor)\n",
    "])\n",
    "X_train_transformed = pipeline.fit_transform(X_train)\n",
    "X_test_transformed = pipeline.transform(X_test)\n",
    "adasyn = ADASYN(sampling_strategy=0.2, n_neighbors=5)\n",
    "X_train_resampled, y_train_resampled = adasyn.fit_resample(X_train_transformed, y_train)"
   ]
  },
  {
   "cell_type": "code",
   "execution_count": null,
   "id": "65542dca-16d2-4b25-ab99-8bd9e71ea52e",
   "metadata": {},
   "outputs": [],
   "source": []
  }
 ],
 "metadata": {
  "kernelspec": {
   "display_name": "Python 3 (ipykernel)",
   "language": "python",
   "name": "python3"
  },
  "language_info": {
   "codemirror_mode": {
    "name": "ipython",
    "version": 3
   },
   "file_extension": ".py",
   "mimetype": "text/x-python",
   "name": "python",
   "nbconvert_exporter": "python",
   "pygments_lexer": "ipython3",
   "version": "3.11.7"
  }
 },
 "nbformat": 4,
 "nbformat_minor": 5
}
