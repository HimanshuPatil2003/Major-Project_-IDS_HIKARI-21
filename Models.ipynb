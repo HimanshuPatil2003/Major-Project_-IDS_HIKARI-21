{
 "cells": [
  {
   "cell_type": "markdown",
   "id": "49194aff-1d7d-403c-8fa0-3bbf4d6d664c",
   "metadata": {},
   "source": [
    "# SVM Model"
   ]
  },
  {
   "cell_type": "code",
   "execution_count": 8,
   "id": "24d0187a-9480-46a1-b0d2-2ead706cb114",
   "metadata": {},
   "outputs": [],
   "source": [
    "import pandas as pd\n",
    "import numpy as np\n",
    "import seaborn as sns\n",
    "import matplotlib.pyplot as plt\n",
    "from sklearn.metrics import classification_report, confusion_matrix, f1_score\n",
    "from sklearn.svm import SVC\n",
    "from lightgbm import LGBMClassifier\n",
    "from xgboost import XGBClassifier\n",
    "from catboost import CatBoostClassifier\n",
    "from sklearn.ensemble import RandomForestClassifier\n",
    "from sklearn.neighbors import KNeighborsClassifier"
   ]
  },
  {
   "cell_type": "code",
   "execution_count": 16,
   "id": "9b703010-f8f1-412a-96c7-44892f483107",
   "metadata": {},
   "outputs": [],
   "source": [
    "def SVM_selector(X_train, y_train, X_test, y_test, batch_size=4096):\n",
    "    print(\"SVM Model:-\")\n",
    "    # Initialize the Support Vector Classifier with a kernel\n",
    "    svm_model = SVC(\n",
    "        kernel='rbf',          # Radial basis function kernel\n",
    "        C=1.0,                 # Regularization parameter\n",
    "        gamma='scale',         # Kernel coefficient\n",
    "        random_state=42,\n",
    "        verbose=True,          # Enable verbose output\n",
    "        max_iter=1000          # Maximum iterations\n",
    "    )\n",
    "    svm_model.fit(X_train, y_train)  # Initial fit\n",
    "    print(\"Making predictions...\")\n",
    "    y_pred = svm_model.predict(X_test)\n",
    "    # Calculate F1 score and confusion matrix\n",
    "    f1 = f1_score(y_test, y_pred, average='weighted')\n",
    "    conf_matrix = confusion_matrix(y_test, y_pred)\n",
    "\n",
    "    print(\"\\nClassification Report:\")\n",
    "    report = classification_report(y_test, y_pred, target_names=[\"Normal\", \"Attack\"], digits=4)\n",
    "    print(report)\n",
    "    print(\"\\nConfusion Matrix:\")\n",
    "    print(conf_matrix)\n",
    "\n",
    "    return f1\n"
   ]
  },
  {
   "cell_type": "markdown",
   "id": "c97a3fed-fddc-4f5e-b3c8-2593db4951ac",
   "metadata": {},
   "source": [
    "# KNN Model"
   ]
  },
  {
   "cell_type": "code",
   "execution_count": 10,
   "id": "d938af6c-b7cf-4858-bb88-2c7a8b2002f6",
   "metadata": {},
   "outputs": [],
   "source": [
    "from sklearn.neighbors import KNeighborsClassifier\n",
    "from sklearn.feature_selection import SelectKBest, f_classif\n",
    "from sklearn.metrics import classification_report, confusion_matrix, f1_score\n",
    "\n",
    "def KNN_Classifier(X_train, y_train, X_test, y_test):\n",
    "    print(\"KNN model\")\n",
    "    model = KNeighborsClassifier(\n",
    "        n_neighbors=7,\n",
    "        weights='distance',     \n",
    "        algorithm='auto',      \n",
    "        leaf_size=10,          \n",
    "        p=2,                   \n",
    "        n_jobs=-1              \n",
    "    )\n",
    "    model.fit(X_train, y_train)\n",
    "    y_pred = model.predict(X_test)\n",
    "    print(\"Classification Report:\")\n",
    "    report = classification_report(y_test, y_pred, target_names=[\"Normal\", \"Attack\"], digits=4)\n",
    "    print(report)\n",
    "    print(\"Confusion Matrix:\")\n",
    "    print(confusion_matrix(y_test, y_pred))\n",
    "    # Compute weighted F1-score\n",
    "    scr = f1_score(y_test, y_pred, average='weighted')\n",
    "    return scr"
   ]
  },
  {
   "cell_type": "markdown",
   "id": "ab8bbb08-044d-40ac-9472-3a50fcc8385b",
   "metadata": {},
   "source": [
    "# Random Forest Model"
   ]
  },
  {
   "cell_type": "code",
   "execution_count": 11,
   "id": "cf50434e-e8ca-401f-a6a5-3e9f689d2e85",
   "metadata": {},
   "outputs": [],
   "source": [
    "def RandomForest_Classifier(X_train, y_train, X_test, y_test):\n",
    "    print(\"Random Forest:-\")\n",
    "    model = RandomForestClassifier(\n",
    "    n_estimators=200,          \n",
    "    max_depth=80,              \n",
    "    min_samples_split=40,      \n",
    "    min_samples_leaf=15,       \n",
    "    max_features='sqrt',\n",
    "    class_weight='balanced',\n",
    "    max_samples=0.7,        \n",
    "    n_jobs=-1,                \n",
    "    random_state=42,          \n",
    "    bootstrap=True,          \n",
    "    oob_score=True,         \n",
    "    verbose=1,           \n",
    "    criterion='gini',\n",
    "    warm_start=False\n",
    "    )\n",
    "    model.fit(X_train, y_train)\n",
    "    y_pred = model.predict(X_test)\n",
    "    print(\"Classification Report:\")\n",
    "    report = classification_report(y_test, y_pred, target_names=[\"Normal\", \"Attack\"], digits=4)\n",
    "    print(report)\n",
    "    print(\"Confusion Matrix:\")\n",
    "    print(confusion_matrix(y_test, y_pred))\n",
    "    scre = f1_score(y_test, y_pred, average='weighted')\n",
    "    return scre"
   ]
  },
  {
   "cell_type": "markdown",
   "id": "124897e3-64f2-44b7-97cb-1b7bd5f74b9c",
   "metadata": {},
   "source": [
    "# LGBM Model"
   ]
  },
  {
   "cell_type": "code",
   "execution_count": 12,
   "id": "28f98797-4df3-48d5-b4ff-ba8c2c082f6c",
   "metadata": {},
   "outputs": [],
   "source": [
    "def LGBM_Classifier(X_train, y_train, X_test, y_test):\n",
    "    print(\"LGBM Model:-\")\n",
    "    model = LGBMClassifier(random_state=97, learning_rate=0.1)\n",
    "    model.fit(X_train, y_train)\n",
    "    y_pred = model.predict(X_test)\n",
    "    print(\"Classification Report:\")\n",
    "    report = classification_report(y_test, y_pred, target_names=[\"Normal\", \"Attack\"], digits=4)\n",
    "    print(report)\n",
    "    print(\"Confusion Matrix:\")\n",
    "    print(confusion_matrix(y_test, y_pred))\n",
    "    return f1_score(y_test, y_pred, average='weighted')"
   ]
  },
  {
   "cell_type": "markdown",
   "id": "5c713bd5-dcc6-4b81-a61e-63476a5ab035",
   "metadata": {},
   "source": [
    "# XGBoost Model"
   ]
  },
  {
   "cell_type": "code",
   "execution_count": 13,
   "id": "d52fabe4-257c-40f5-a6cd-12eb28a577cc",
   "metadata": {},
   "outputs": [],
   "source": [
    "def XGB_Classifier(X_train, y_train, X_test, y_test):\n",
    "    print(\"XGB Model:-\")\n",
    "    model = XGBClassifier(random_state=97, learning_rate=0.1, use_label_encoder=False, eval_metric='logloss')\n",
    "    model.fit(X_train, y_train)\n",
    "    y_pred = model.predict(X_test)\n",
    "    print(\"Classification Report:\")\n",
    "    report = classification_report(y_test, y_pred, target_names=[\"Normal\", \"Attack\"], digits=4)\n",
    "    print(report)\n",
    "    print(\"Confusion Matrix:\")\n",
    "    print(confusion_matrix(y_test, y_pred))\n",
    "    scre = f1_score(y_test, y_pred, average='weighted')\n",
    "    return scre"
   ]
  },
  {
   "cell_type": "markdown",
   "id": "fc5f28ae-de2c-4e52-ab01-a67146313221",
   "metadata": {},
   "source": [
    "# CatBoost Model"
   ]
  },
  {
   "cell_type": "code",
   "execution_count": 14,
   "id": "ba198ebc-2e6f-471e-8eb7-8ccda1b1f86d",
   "metadata": {},
   "outputs": [],
   "source": [
    "from catboost import CatBoostClassifier\n",
    "def CatBoost_Classifier(X_train, y_train, X_test, y_test):\n",
    "    print(\"CatBoost Model\")\n",
    "    model = CatBoostClassifier(\n",
    "        random_state=97,\n",
    "        learning_rate=0.1,\n",
    "        verbose=100,\n",
    "        iterations= 1000\n",
    "    )\n",
    "    model.fit(X_train, y_train)\n",
    "    y_pred = model.predict(X_test)\n",
    "    print(\"Classification Report:\")\n",
    "    report = classification_report(y_test, y_pred, target_names=[\"Normal\", \"Attack\"], digits=4)\n",
    "    print(report)\n",
    "    print(\"Confusion Matrix:\")\n",
    "    print(confusion_matrix(y_test, y_pred))\n",
    "    scre = f1_score(y_test, y_pred, average='weighted')\n",
    "    return scre"
   ]
  },
  {
   "cell_type": "code",
   "execution_count": null,
   "id": "7d6ae92a-1d37-40e3-9758-905eef66c3a5",
   "metadata": {},
   "outputs": [],
   "source": []
  },
  {
   "cell_type": "code",
   "execution_count": null,
   "id": "d6d4ba64-a3d8-411d-ac78-b53a06b3e292",
   "metadata": {},
   "outputs": [],
   "source": []
  }
 ],
 "metadata": {
  "kernelspec": {
   "display_name": "Python 3 (ipykernel)",
   "language": "python",
   "name": "python3"
  },
  "language_info": {
   "codemirror_mode": {
    "name": "ipython",
    "version": 3
   },
   "file_extension": ".py",
   "mimetype": "text/x-python",
   "name": "python",
   "nbconvert_exporter": "python",
   "pygments_lexer": "ipython3",
   "version": "3.11.7"
  }
 },
 "nbformat": 4,
 "nbformat_minor": 5
}
