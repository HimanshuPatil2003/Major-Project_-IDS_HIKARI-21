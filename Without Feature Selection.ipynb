{
 "cells": [
  {
   "cell_type": "code",
   "execution_count": 1,
   "id": "a48bacd2-12da-494c-a366-a5870beec48b",
   "metadata": {},
   "outputs": [],
   "source": [
    "%run Pre-Processing.ipynb"
   ]
  },
  {
   "cell_type": "code",
   "execution_count": 2,
   "id": "d9ad75d7-dff5-4824-b939-e1609d1baf09",
   "metadata": {},
   "outputs": [],
   "source": [
    "%run Models.ipynb"
   ]
  },
  {
   "cell_type": "code",
   "execution_count": 3,
   "id": "c66f6a28-eac5-405e-adce-df3a5d5bec64",
   "metadata": {},
   "outputs": [],
   "source": [
    "import pandas as pd\n",
    "import numpy as np\n",
    "import seaborn as sns\n",
    "import matplotlib.pyplot as plt\n",
    "from sklearn.compose import ColumnTransformer\n",
    "from sklearn.pipeline import Pipeline\n",
    "from sklearn.preprocessing import StandardScaler, OneHotEncoder, PowerTransformer\n",
    "from imblearn.over_sampling import ADASYN\n",
    "from sklearn.svm import SVC\n",
    "from sklearn.metrics import classification_report, confusion_matrix, f1_score\n",
    "from sklearn.feature_selection import SelectKBest, f_classif\n",
    "from lightgbm import LGBMClassifier\n",
    "from xgboost import XGBClassifier\n",
    "from catboost import CatBoostClassifier\n",
    "from tensorflow.keras.models import Sequential\n",
    "from tensorflow.keras.layers import Dense, Dropout\n",
    "from tensorflow.keras.optimizers import Adam\n",
    "from tensorflow.keras.utils import to_categorical\n",
    "from sklearn.ensemble import RandomForestClassifier"
   ]
  },
  {
   "cell_type": "code",
   "execution_count": null,
   "id": "adb58557-c1a5-409d-b3ba-e4108fad279c",
   "metadata": {},
   "outputs": [],
   "source": []
  },
  {
   "cell_type": "code",
   "execution_count": 5,
   "id": "ea53d3b8-b6d4-4226-9e07-083d6dc400c3",
   "metadata": {
    "scrolled": true
   },
   "outputs": [
    {
     "name": "stdout",
     "output_type": "stream",
     "text": [
      "SVM Model:-\n",
      "[LibSVM]"
     ]
    },
    {
     "name": "stderr",
     "output_type": "stream",
     "text": [
      "C:\\Users\\gauta\\anaconda3\\Lib\\site-packages\\sklearn\\svm\\_base.py:299: ConvergenceWarning: Solver terminated early (max_iter=1000).  Consider pre-processing your data with StandardScaler or MinMaxScaler.\n",
      "  warnings.warn(\n"
     ]
    },
    {
     "name": "stdout",
     "output_type": "stream",
     "text": [
      "Making predictions...\n",
      "\n",
      "Classification Report:\n",
      "              precision    recall  f1-score   support\n",
      "\n",
      "      Normal     0.9368    0.9834    0.9596    103560\n",
      "      Attack     0.2687    0.0840    0.1280      7496\n",
      "\n",
      "    accuracy                         0.9227    111056\n",
      "   macro avg     0.6027    0.5337    0.5438    111056\n",
      "weighted avg     0.8917    0.9227    0.9034    111056\n",
      "\n",
      "\n",
      "Confusion Matrix:\n",
      "[[101845   1715]\n",
      " [  6866    630]]\n",
      "KNN model\n",
      "Classification Report:\n",
      "              precision    recall  f1-score   support\n",
      "\n",
      "      Normal     0.9352    0.9392    0.9372    103560\n",
      "      Attack     0.1067    0.1003    0.1034      7496\n",
      "\n",
      "    accuracy                         0.8826    111056\n",
      "   macro avg     0.5209    0.5198    0.5203    111056\n",
      "weighted avg     0.8792    0.8826    0.8809    111056\n",
      "\n",
      "Confusion Matrix:\n",
      "[[97262  6298]\n",
      " [ 6744   752]]\n",
      "Random Forest:-\n"
     ]
    },
    {
     "name": "stderr",
     "output_type": "stream",
     "text": [
      "[Parallel(n_jobs=-1)]: Using backend ThreadingBackend with 8 concurrent workers.\n",
      "[Parallel(n_jobs=-1)]: Done  34 tasks      | elapsed:   16.5s\n",
      "[Parallel(n_jobs=-1)]: Done 184 tasks      | elapsed:  1.2min\n",
      "[Parallel(n_jobs=-1)]: Done 200 out of 200 | elapsed:  1.3min finished\n",
      "[Parallel(n_jobs=8)]: Using backend ThreadingBackend with 8 concurrent workers.\n",
      "[Parallel(n_jobs=8)]: Done  34 tasks      | elapsed:    0.1s\n",
      "[Parallel(n_jobs=8)]: Done 184 tasks      | elapsed:    0.7s\n",
      "[Parallel(n_jobs=8)]: Done 200 out of 200 | elapsed:    0.8s finished\n"
     ]
    },
    {
     "name": "stdout",
     "output_type": "stream",
     "text": [
      "Classification Report:\n",
      "              precision    recall  f1-score   support\n",
      "\n",
      "      Normal     0.9985    0.8594    0.9238    103560\n",
      "      Attack     0.3359    0.9825    0.5007      7496\n",
      "\n",
      "    accuracy                         0.8677    111056\n",
      "   macro avg     0.6672    0.9210    0.7122    111056\n",
      "weighted avg     0.9538    0.8677    0.8952    111056\n",
      "\n",
      "Confusion Matrix:\n",
      "[[89002 14558]\n",
      " [  131  7365]]\n",
      "LGBM Model:-\n",
      "[LightGBM] [Info] Number of positive: 30200, number of negative: 414022\n",
      "[LightGBM] [Info] Auto-choosing col-wise multi-threading, the overhead of testing was 0.187768 seconds.\n",
      "You can set `force_col_wise=true` to remove the overhead.\n",
      "[LightGBM] [Info] Total Bins 16526\n",
      "[LightGBM] [Info] Number of data points in the train set: 444222, number of used features: 79\n",
      "[LightGBM] [Info] [binary:BoostFromScore]: pavg=0.067984 -> initscore=-2.618077\n",
      "[LightGBM] [Info] Start training from score -2.618077\n",
      "Classification Report:\n",
      "              precision    recall  f1-score   support\n",
      "\n",
      "      Normal     0.9479    0.9808    0.9641    103560\n",
      "      Attack     0.4912    0.2556    0.3362      7496\n",
      "\n",
      "    accuracy                         0.9319    111056\n",
      "   macro avg     0.7195    0.6182    0.6502    111056\n",
      "weighted avg     0.9171    0.9319    0.9217    111056\n",
      "\n",
      "Confusion Matrix:\n",
      "[[101575   1985]\n",
      " [  5580   1916]]\n",
      "XGB Model:-\n",
      "Classification Report:\n",
      "              precision    recall  f1-score   support\n",
      "\n",
      "      Normal     0.9476    0.9827    0.9648    103560\n",
      "      Attack     0.5108    0.2493    0.3351      7496\n",
      "\n",
      "    accuracy                         0.9332    111056\n",
      "   macro avg     0.7292    0.6160    0.6500    111056\n",
      "weighted avg     0.9181    0.9332    0.9223    111056\n",
      "\n",
      "Confusion Matrix:\n",
      "[[101770   1790]\n",
      " [  5627   1869]]\n",
      "CatBoost Model\n",
      "0:\tlearn: 0.3919702\ttotal: 127ms\tremaining: 2m 6s\n",
      "100:\tlearn: 0.1222162\ttotal: 13.1s\tremaining: 1m 56s\n",
      "200:\tlearn: 0.1196783\ttotal: 25s\tremaining: 1m 39s\n",
      "300:\tlearn: 0.1181568\ttotal: 37.8s\tremaining: 1m 27s\n",
      "400:\tlearn: 0.1173652\ttotal: 49.3s\tremaining: 1m 13s\n",
      "500:\tlearn: 0.1165703\ttotal: 1m 1s\tremaining: 1m 1s\n",
      "600:\tlearn: 0.1159007\ttotal: 1m 13s\tremaining: 48.8s\n",
      "700:\tlearn: 0.1151742\ttotal: 1m 28s\tremaining: 37.8s\n",
      "800:\tlearn: 0.1146098\ttotal: 1m 40s\tremaining: 24.9s\n",
      "900:\tlearn: 0.1141273\ttotal: 1m 54s\tremaining: 12.5s\n",
      "999:\tlearn: 0.1136575\ttotal: 2m 7s\tremaining: 0us\n",
      "Classification Report:\n",
      "              precision    recall  f1-score   support\n",
      "\n",
      "      Normal     0.9450    0.9723    0.9585    103560\n",
      "      Attack     0.3634    0.2186    0.2730      7496\n",
      "\n",
      "    accuracy                         0.9214    111056\n",
      "   macro avg     0.6542    0.5955    0.6157    111056\n",
      "weighted avg     0.9058    0.9214    0.9122    111056\n",
      "\n",
      "Confusion Matrix:\n",
      "[[100689   2871]\n",
      " [  5857   1639]]\n"
     ]
    },
    {
     "data": {
      "text/plain": [
       "0.9121943401030952"
      ]
     },
     "execution_count": 5,
     "metadata": {},
     "output_type": "execute_result"
    }
   ],
   "source": [
    "SVM_selector(X_train_transformed, y_train, X_test_transformed, y_test)\n",
    "KNN_Classifier(X_train_transformed, y_train, X_test_transformed, y_test)\n",
    "RandomForest_Classifier(X_train_transformed, y_train, X_test_transformed, y_test)\n",
    "LGBM_Classifier(X_train_transformed, y_train, X_test_transformed, y_test)\n",
    "XGB_Classifier(X_train_transformed, y_train, X_test_transformed, y_test)\n",
    "CatBoost_Classifier(X_train_transformed, y_train, X_test_transformed, y_test)"
   ]
  },
  {
   "cell_type": "code",
   "execution_count": 4,
   "id": "070c2ca1-9c22-4206-bae9-fb92f5a20f00",
   "metadata": {},
   "outputs": [
    {
     "name": "stdout",
     "output_type": "stream",
     "text": [
      "SVM Model:-\n",
      "[LibSVM]"
     ]
    },
    {
     "name": "stderr",
     "output_type": "stream",
     "text": [
      "C:\\Users\\gauta\\anaconda3\\Lib\\site-packages\\sklearn\\svm\\_base.py:299: ConvergenceWarning: Solver terminated early (max_iter=1000).  Consider pre-processing your data with StandardScaler or MinMaxScaler.\n",
      "  warnings.warn(\n"
     ]
    },
    {
     "name": "stdout",
     "output_type": "stream",
     "text": [
      "Making predictions...\n",
      "\n",
      "Classification Report:\n",
      "              precision    recall  f1-score   support\n",
      "\n",
      "      Normal     0.9368    0.9834    0.9596    103560\n",
      "      Attack     0.2685    0.0840    0.1280      7496\n",
      "\n",
      "    accuracy                         0.9227    111056\n",
      "   macro avg     0.6027    0.5337    0.5438    111056\n",
      "weighted avg     0.8917    0.9227    0.9034    111056\n",
      "\n",
      "\n",
      "Confusion Matrix:\n",
      "[[101844   1716]\n",
      " [  6866    630]]\n",
      "KNN model\n",
      "Classification Report:\n",
      "              precision    recall  f1-score   support\n",
      "\n",
      "      Normal     0.9393    0.9023    0.9204    103560\n",
      "      Attack     0.1259    0.1944    0.1528      7496\n",
      "\n",
      "    accuracy                         0.8545    111056\n",
      "   macro avg     0.5326    0.5483    0.5366    111056\n",
      "weighted avg     0.8844    0.8545    0.8686    111056\n",
      "\n",
      "Confusion Matrix:\n",
      "[[93442 10118]\n",
      " [ 6039  1457]]\n",
      "Random Forest:-\n"
     ]
    },
    {
     "name": "stderr",
     "output_type": "stream",
     "text": [
      "[Parallel(n_jobs=-1)]: Using backend ThreadingBackend with 8 concurrent workers.\n",
      "[Parallel(n_jobs=-1)]: Done  34 tasks      | elapsed:   21.9s\n",
      "[Parallel(n_jobs=-1)]: Done 184 tasks      | elapsed:  1.7min\n",
      "[Parallel(n_jobs=-1)]: Done 200 out of 200 | elapsed:  1.8min finished\n",
      "[Parallel(n_jobs=8)]: Using backend ThreadingBackend with 8 concurrent workers.\n",
      "[Parallel(n_jobs=8)]: Done  34 tasks      | elapsed:    0.0s\n",
      "[Parallel(n_jobs=8)]: Done 184 tasks      | elapsed:    0.7s\n",
      "[Parallel(n_jobs=8)]: Done 200 out of 200 | elapsed:    0.7s finished\n"
     ]
    },
    {
     "name": "stdout",
     "output_type": "stream",
     "text": [
      "Classification Report:\n",
      "              precision    recall  f1-score   support\n",
      "\n",
      "      Normal     0.9975    0.8612    0.9243    103560\n",
      "      Attack     0.3359    0.9699    0.4990      7496\n",
      "\n",
      "    accuracy                         0.8685    111056\n",
      "   macro avg     0.6667    0.9155    0.7116    111056\n",
      "weighted avg     0.9528    0.8685    0.8956    111056\n",
      "\n",
      "Confusion Matrix:\n",
      "[[89185 14375]\n",
      " [  226  7270]]\n",
      "LGBM Model:-\n",
      "[LightGBM] [Info] Number of positive: 83069, number of negative: 414022\n",
      "[LightGBM] [Info] Auto-choosing col-wise multi-threading, the overhead of testing was 0.144108 seconds.\n",
      "You can set `force_col_wise=true` to remove the overhead.\n",
      "[LightGBM] [Info] Total Bins 17246\n",
      "[LightGBM] [Info] Number of data points in the train set: 497091, number of used features: 79\n",
      "[LightGBM] [Info] [binary:BoostFromScore]: pavg=0.167110 -> initscore=-1.606248\n",
      "[LightGBM] [Info] Start training from score -1.606248\n",
      "Classification Report:\n",
      "              precision    recall  f1-score   support\n",
      "\n",
      "      Normal     0.9638    0.9625    0.9632    103560\n",
      "      Attack     0.4917    0.5011    0.4963      7496\n",
      "\n",
      "    accuracy                         0.9314    111056\n",
      "   macro avg     0.7278    0.7318    0.7298    111056\n",
      "weighted avg     0.9320    0.9314    0.9317    111056\n",
      "\n",
      "Confusion Matrix:\n",
      "[[99677  3883]\n",
      " [ 3740  3756]]\n",
      "XGB Model:-\n",
      "Classification Report:\n",
      "              precision    recall  f1-score   support\n",
      "\n",
      "      Normal     0.9677    0.9518    0.9597    103560\n",
      "      Attack     0.4576    0.5612    0.5041      7496\n",
      "\n",
      "    accuracy                         0.9255    111056\n",
      "   macro avg     0.7126    0.7565    0.7319    111056\n",
      "weighted avg     0.9333    0.9255    0.9290    111056\n",
      "\n",
      "Confusion Matrix:\n",
      "[[98573  4987]\n",
      " [ 3289  4207]]\n",
      "CatBoost Model\n",
      "0:\tlearn: 0.4368384\ttotal: 340ms\tremaining: 5m 39s\n",
      "100:\tlearn: 0.1433886\ttotal: 13.4s\tremaining: 1m 59s\n",
      "200:\tlearn: 0.1313174\ttotal: 26.6s\tremaining: 1m 45s\n",
      "300:\tlearn: 0.1249969\ttotal: 38.3s\tremaining: 1m 28s\n",
      "400:\tlearn: 0.1220615\ttotal: 50.7s\tremaining: 1m 15s\n",
      "500:\tlearn: 0.1197754\ttotal: 1m 4s\tremaining: 1m 4s\n",
      "600:\tlearn: 0.1179263\ttotal: 1m 16s\tremaining: 51s\n",
      "700:\tlearn: 0.1163880\ttotal: 1m 30s\tremaining: 38.8s\n",
      "800:\tlearn: 0.1153193\ttotal: 1m 42s\tremaining: 25.6s\n",
      "900:\tlearn: 0.1144120\ttotal: 1m 53s\tremaining: 12.5s\n",
      "999:\tlearn: 0.1136583\ttotal: 2m 5s\tremaining: 0us\n",
      "Classification Report:\n",
      "              precision    recall  f1-score   support\n",
      "\n",
      "      Normal     0.9533    0.9684    0.9608    103560\n",
      "      Attack     0.4410    0.3442    0.3866      7496\n",
      "\n",
      "    accuracy                         0.9263    111056\n",
      "   macro avg     0.6971    0.6563    0.6737    111056\n",
      "weighted avg     0.9187    0.9263    0.9220    111056\n",
      "\n",
      "Confusion Matrix:\n",
      "[[100290   3270]\n",
      " [  4916   2580]]\n"
     ]
    },
    {
     "data": {
      "text/plain": [
       "0.9220345561276013"
      ]
     },
     "execution_count": 4,
     "metadata": {},
     "output_type": "execute_result"
    }
   ],
   "source": [
    "SVM_selector(X_train_resampled, y_train_resampled, X_test_transformed, y_test)\n",
    "KNN_Classifier(X_train_resampled, y_train_resampled, X_test_transformed, y_test)\n",
    "RandomForest_Classifier(X_train_resampled, y_train_resampled, X_test_transformed, y_test)\n",
    "LGBM_Classifier(X_train_resampled, y_train_resampled, X_test_transformed, y_test)\n",
    "XGB_Classifier(X_train_resampled, y_train_resampled, X_test_transformed, y_test)\n",
    "CatBoost_Classifier(X_train_resampled, y_train_resampled, X_test_transformed, y_test)"
   ]
  },
  {
   "cell_type": "code",
   "execution_count": null,
   "id": "f509ff04-82d6-4c1c-b40d-f3bc20e04271",
   "metadata": {},
   "outputs": [],
   "source": []
  }
 ],
 "metadata": {
  "kernelspec": {
   "display_name": "Python 3 (ipykernel)",
   "language": "python",
   "name": "python3"
  },
  "language_info": {
   "codemirror_mode": {
    "name": "ipython",
    "version": 3
   },
   "file_extension": ".py",
   "mimetype": "text/x-python",
   "name": "python",
   "nbconvert_exporter": "python",
   "pygments_lexer": "ipython3",
   "version": "3.11.7"
  }
 },
 "nbformat": 4,
 "nbformat_minor": 5
}
